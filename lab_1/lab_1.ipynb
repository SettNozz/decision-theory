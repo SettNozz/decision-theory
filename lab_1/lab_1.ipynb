{
 "cells": [
  {
   "cell_type": "code",
   "execution_count": 2,
   "metadata": {},
   "outputs": [],
   "source": [
    "import statistics\n",
    "import pandas as pd\n",
    "import math"
   ]
  },
  {
   "cell_type": "markdown",
   "metadata": {},
   "source": [
    "# Function mean square"
   ]
  },
  {
   "cell_type": "code",
   "execution_count": 3,
   "metadata": {},
   "outputs": [],
   "source": [
    "def rootMeanSquare(col):\n",
    "    res = 0\n",
    "    for i in col:\n",
    "        res += i**2\n",
    "    return math.sqrt(res/len(col))"
   ]
  },
  {
   "cell_type": "markdown",
   "metadata": {},
   "source": [
    "# Read data from file, drop empty data"
   ]
  },
  {
   "cell_type": "code",
   "execution_count": 6,
   "metadata": {},
   "outputs": [],
   "source": [
    "data = pd.read_excel('data.xls')\n",
    "type(data)\n",
    "df = data.dropna(how=\"any\")"
   ]
  },
  {
   "cell_type": "markdown",
   "metadata": {},
   "source": [
    "# First way: Standart deviation (maybe wrong way)"
   ]
  },
  {
   "cell_type": "code",
   "execution_count": 11,
   "metadata": {},
   "outputs": [
    {
     "name": "stdout",
     "output_type": "stream",
     "text": [
      "Прод Q 0.01119540104305443\n",
      "Прод R 0.0034885232956160545\n",
      "Прод S 0.029957281697128326\n",
      "Прод Т 0.03109918663414409\n",
      "Ампл Р 0.010725119164357765\n",
      "Ампл Q 0.050831884321548955\n",
      "Ампл R 0.1358120240466183\n",
      "Ампл S 0.032456086244423255\n",
      "Ампл Т 0.03494116195406367\n",
      "Инт PQ 0.010790059857635717\n",
      "Инт QT 0.02285974243869982\n",
      "\n",
      "\n",
      "SO\n",
      " A smaller dispersion implies that a larger count of values is closer to the mean. \n",
      " In our case, this - (Prod R) column: 0.0034885232956160545\n"
     ]
    }
   ],
   "source": [
    "ar = []\n",
    "for key in df:\n",
    "    print(key, statistics.stdev(df[key]))\n",
    "    ar.append(statistics.stdev(df[key]))\n",
    "print(\"\\r\\n\\r\\nSO\\r\\n A smaller dispersion implies that a larger count of values is closer to the mean. \\n In our case, this - (Prod R) column:\" ,min(ar))"
   ]
  },
  {
   "cell_type": "markdown",
   "metadata": {},
   "source": [
    "# Second way: Devide mean squared on mean, and get result"
   ]
  },
  {
   "cell_type": "code",
   "execution_count": 120,
   "metadata": {},
   "outputs": [
    {
     "name": "stdout",
     "output_type": "stream",
     "text": [
      "Прод Q 1.007831508376178\n",
      "Прод R 1.0037128781051543\n",
      "Прод S 1.0353055182841955\n",
      "Прод Т 1.0080255510830334\n",
      "Ампл Р 1.0226249747943301\n",
      "Ампл Q 1.025296017988207\n",
      "Ампл R 1.0099584036180658\n",
      "Ампл S 1.2306398550229956\n",
      "Ампл Т 1.0238139413196083\n",
      "Инт PQ 1.0014668029723977\n",
      "Инт QT 1.0015811634928105\n",
      "\r\n",
      "SO\r\n",
      "Minimal value has index 10. So, It is (Int PQ) value: 1.0014668029723977\n"
     ]
    }
   ],
   "source": [
    "mean_df = abs(df.mean())\n",
    "i = 0\n",
    "arr = []\n",
    "for key in df:\n",
    "    arr.append(abs(rootMeanSquare(df[key])/mean_df[i]))\n",
    "    i+=1\n",
    "i = 0\n",
    "for key in df:\n",
    "    print(key, arr[i])\n",
    "    i+=1\n",
    "\n",
    "print(\"\\r\\nSO\\r\\nMinimal value has index 10. So, It is (Int PQ) value:\",min(arr))"
   ]
  }
 ],
 "metadata": {
  "kernelspec": {
   "display_name": "Python 3",
   "language": "python",
   "name": "python3"
  },
  "language_info": {
   "codemirror_mode": {
    "name": "ipython",
    "version": 3
   },
   "file_extension": ".py",
   "mimetype": "text/x-python",
   "name": "python",
   "nbconvert_exporter": "python",
   "pygments_lexer": "ipython3",
   "version": "3.5.2"
  }
 },
 "nbformat": 4,
 "nbformat_minor": 2
}
